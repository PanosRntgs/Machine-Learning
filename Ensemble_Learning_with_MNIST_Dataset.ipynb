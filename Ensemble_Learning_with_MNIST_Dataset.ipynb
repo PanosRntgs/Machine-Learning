{
  "cells": [
    {
      "cell_type": "markdown",
      "metadata": {
        "id": "view-in-github",
        "colab_type": "text"
      },
      "source": [
        "<a href=\"https://colab.research.google.com/github/PanosRntgs/Machine-Learning/blob/main/Ensemble_Learning_with_MNIST_Dataset.ipynb\" target=\"_parent\"><img src=\"https://colab.research.google.com/assets/colab-badge.svg\" alt=\"Open In Colab\"/></a>"
      ]
    },
    {
      "cell_type": "markdown",
      "source": [
        "In this python notebook, we explore learning techniques using the MNIST dataset.\n",
        "\n",
        "We begin by splitting the dataset into training and test sets.\n",
        "\n",
        "Next, we employ Principal Component Analysis (PCA) to reduce the dimensions of the dataset while retaining 90% of the variance in the training set.\n",
        "\n",
        "We then train various classifiers, including Decision Tree, Random Forest, AdaBoost, LinearSVC, and Logistic Regression, on the training data and assess their performance on the test set.\n",
        "\n",
        "Afterwards, we consolidate these individual classifiers into a Stacking Ensemble Classifier, leveraging 3-fold cross-validation, with a Random Forest Classifier serving as the final model.\n",
        "\n",
        "Finally, we evaluate the Stacking Classifier's performance on the test set and analyze its effectiveness in comparison to individual classifiers."
      ],
      "metadata": {
        "id": "rj1ED3cTEnha"
      },
      "id": "rj1ED3cTEnha"
    },
    {
      "cell_type": "code",
      "execution_count": 1,
      "id": "8ae271e2",
      "metadata": {
        "id": "8ae271e2"
      },
      "outputs": [],
      "source": [
        "from tensorflow.keras.datasets import mnist\n",
        "import numpy as np\n",
        "from sklearn.model_selection import train_test_split\n",
        "from sklearn.decomposition import PCA\n",
        "from sklearn.ensemble import RandomForestClassifier\n",
        "from sklearn.model_selection import cross_val_score\n",
        "from sklearn.tree import DecisionTreeClassifier\n",
        "from sklearn.ensemble import RandomForestClassifier, AdaBoostClassifier\n",
        "from sklearn.svm import LinearSVC\n",
        "from sklearn.linear_model import LogisticRegression\n",
        "from sklearn.ensemble import StackingClassifier\n",
        "from sklearn.base import clone"
      ]
    },
    {
      "cell_type": "code",
      "execution_count": 2,
      "id": "d7ded818",
      "metadata": {
        "colab": {
          "base_uri": "https://localhost:8080/"
        },
        "id": "d7ded818",
        "outputId": "03d1ffd9-c087-4570-a81e-d3085b35edfb"
      },
      "outputs": [
        {
          "output_type": "stream",
          "name": "stdout",
          "text": [
            "Downloading data from https://storage.googleapis.com/tensorflow/tf-keras-datasets/mnist.npz\n",
            "11490434/11490434 [==============================] - 0s 0us/step\n"
          ]
        }
      ],
      "source": [
        "# Load the MNIST dataset\n",
        "(x_train, y_train), (x_test, y_test) = mnist.load_data()"
      ]
    },
    {
      "cell_type": "code",
      "execution_count": 3,
      "id": "19f53509",
      "metadata": {
        "id": "19f53509"
      },
      "outputs": [],
      "source": [
        "# Split the dataset into training (6/7) and test (1/7) sets\n",
        "x_train, x_test, y_train, y_test = train_test_split(x_train, y_train, test_size=1/7, random_state=42)"
      ]
    },
    {
      "cell_type": "code",
      "execution_count": 4,
      "id": "96f7c06d",
      "metadata": {
        "id": "96f7c06d"
      },
      "outputs": [],
      "source": [
        "# Flatten the images\n",
        "x_train_flat = x_train.reshape(x_train.shape[0], -1)\n",
        "x_test_flat = x_test.reshape(x_test.shape[0], -1)"
      ]
    },
    {
      "cell_type": "code",
      "execution_count": 5,
      "id": "0e3aa23e",
      "metadata": {
        "id": "0e3aa23e"
      },
      "outputs": [],
      "source": [
        "# Normalize pixel values to be between 0 and 1\n",
        "x_train_flat = x_train_flat / 255.0\n",
        "x_test_flat = x_test_flat / 255.0"
      ]
    },
    {
      "cell_type": "code",
      "execution_count": 6,
      "id": "fccbc613",
      "metadata": {
        "id": "fccbc613"
      },
      "outputs": [],
      "source": [
        "# Apply PCA to reduce dimensions and preserve 90% of variance\n",
        "target_variance = 0.9\n",
        "pca = PCA(n_components=target_variance)\n",
        "x_train_pca = pca.fit_transform(x_train_flat)\n",
        "x_test_pca = pca.transform(x_test_flat)"
      ]
    },
    {
      "cell_type": "code",
      "execution_count": 7,
      "id": "fec87b42",
      "metadata": {
        "id": "fec87b42"
      },
      "outputs": [],
      "source": [
        "# Train Decision Tree\n",
        "decision_tree = DecisionTreeClassifier(max_depth=10)\n",
        "decision_tree.fit(x_train_pca, y_train)\n",
        "decision_tree_score = decision_tree.score(x_test_pca, y_test)"
      ]
    },
    {
      "cell_type": "code",
      "execution_count": 8,
      "id": "ec1b7475",
      "metadata": {
        "id": "ec1b7475"
      },
      "outputs": [],
      "source": [
        "# Train Random Forest\n",
        "random_forest = RandomForestClassifier(n_estimators=50, random_state=42)\n",
        "random_forest.fit(x_train_pca, y_train)\n",
        "random_forest_score = random_forest.score(x_test_pca, y_test)"
      ]
    },
    {
      "cell_type": "code",
      "execution_count": 9,
      "id": "94f6c3e4",
      "metadata": {
        "id": "94f6c3e4"
      },
      "outputs": [],
      "source": [
        "# Train AdaBoost\n",
        "adaboost = AdaBoostClassifier(n_estimators=50, random_state=42)\n",
        "adaboost.fit(x_train_pca, y_train)\n",
        "adaboost_score = adaboost.score(x_test_pca, y_test)"
      ]
    },
    {
      "cell_type": "code",
      "execution_count": 10,
      "id": "bc28eec2",
      "metadata": {
        "id": "bc28eec2"
      },
      "outputs": [],
      "source": [
        "# Train LinearSVC\n",
        "linear_svc = LinearSVC(max_iter=500, dual=False, random_state=42)\n",
        "linear_svc.fit(x_train_pca, y_train)\n",
        "linear_svc_score = linear_svc.score(x_test_pca, y_test)"
      ]
    },
    {
      "cell_type": "code",
      "execution_count": 11,
      "id": "f527475f",
      "metadata": {
        "id": "f527475f"
      },
      "outputs": [],
      "source": [
        "# Train Logistic Regression\n",
        "logistic_regression = LogisticRegression(max_iter=500, random_state=42)\n",
        "logistic_regression.fit(x_train_pca, y_train)\n",
        "logistic_regression_score = logistic_regression.score(x_test_pca, y_test)"
      ]
    },
    {
      "cell_type": "code",
      "execution_count": 12,
      "id": "325d76da",
      "metadata": {
        "colab": {
          "base_uri": "https://localhost:8080/"
        },
        "id": "325d76da",
        "outputId": "e201ffb9-1b90-4a63-99b2-240baef22108"
      },
      "outputs": [
        {
          "output_type": "stream",
          "name": "stdout",
          "text": [
            "Decision Tree Score: 0.7865142323845077\n",
            "Random Forest Score: 0.947736817545497\n",
            "AdaBoost Score: 0.679888007466169\n",
            "LinearSVC Score: 0.905506299580028\n",
            "Logistic Regression Score: 0.9213719085394307\n"
          ]
        }
      ],
      "source": [
        "# Print the scores\n",
        "print(\"Decision Tree Score:\", decision_tree_score)\n",
        "print(\"Random Forest Score:\", random_forest_score)\n",
        "print(\"AdaBoost Score:\", adaboost_score)\n",
        "print(\"LinearSVC Score:\", linear_svc_score)\n",
        "print(\"Logistic Regression Score:\", logistic_regression_score)"
      ]
    },
    {
      "cell_type": "code",
      "execution_count": 13,
      "id": "e1fc8e9f",
      "metadata": {
        "id": "e1fc8e9f"
      },
      "outputs": [],
      "source": [
        "# Define the base classifiers\n",
        "base_classifiers = [\n",
        "    ('decision_tree', decision_tree),\n",
        "    ('random_forest', random_forest),\n",
        "    ('adaboost', adaboost),\n",
        "    ('linear_svc', linear_svc),\n",
        "    ('logistic_regression', logistic_regression)]"
      ]
    },
    {
      "cell_type": "code",
      "execution_count": 14,
      "id": "0a21dafa",
      "metadata": {
        "id": "0a21dafa"
      },
      "outputs": [],
      "source": [
        "# Create the stacking ensemble with Random Forest as the final classifier\n",
        "stacking_classifier = StackingClassifier(estimators=base_classifiers,\n",
        "                                         final_estimator=random_forest,\n",
        "                                         cv=3)"
      ]
    },
    {
      "cell_type": "code",
      "execution_count": 15,
      "id": "e4b063e6",
      "metadata": {
        "id": "e4b063e6"
      },
      "outputs": [],
      "source": [
        "# Train the stacking ensemble on the training set and evaluate on the test set\n",
        "stacking_classifier.fit(x_train_pca, y_train)\n",
        "stacking_score = stacking_classifier.score(x_test_pca, y_test)"
      ]
    },
    {
      "cell_type": "code",
      "execution_count": 16,
      "id": "d00d689c",
      "metadata": {
        "colab": {
          "base_uri": "https://localhost:8080/"
        },
        "id": "d00d689c",
        "outputId": "f8cfce47-5dca-4612-8d40-f686d28d5163"
      },
      "outputs": [
        {
          "output_type": "stream",
          "name": "stdout",
          "text": [
            "Stacking Ensemble Test Set Score: 0.9562529164722352\n"
          ]
        }
      ],
      "source": [
        "# Print the test set score\n",
        "print(\"Stacking Ensemble Test Set Score:\", stacking_score)"
      ]
    },
    {
      "cell_type": "code",
      "execution_count": 17,
      "id": "ca0b4952",
      "metadata": {
        "colab": {
          "base_uri": "https://localhost:8080/"
        },
        "id": "ca0b4952",
        "outputId": "8480280a-1d44-4501-8bdc-d25b382da759"
      },
      "outputs": [
        {
          "output_type": "stream",
          "name": "stdout",
          "text": [
            "{'Decision Tree': 0.7865142323845077, 'Random Forest': 0.947736817545497, 'AdaBoost': 0.679888007466169, 'LinearSVC': 0.905506299580028, 'Logistic Regression': 0.9213719085394307}\n"
          ]
        }
      ],
      "source": [
        "# Individual classifier scores\n",
        "individual_scores = {\n",
        "    'Decision Tree': decision_tree_score,\n",
        "    'Random Forest': random_forest_score,\n",
        "    'AdaBoost': adaboost_score,\n",
        "    'LinearSVC': linear_svc_score,\n",
        "    'Logistic Regression': logistic_regression_score\n",
        "}\n",
        "print(individual_scores)"
      ]
    },
    {
      "cell_type": "code",
      "execution_count": 18,
      "id": "c64e8585",
      "metadata": {
        "id": "c64e8585"
      },
      "outputs": [],
      "source": [
        "# Calculate improvement for each classifier\n",
        "improvements = {classifier: (stacking_score - score) / score * 100\n",
        "                for classifier, score in individual_scores.items()}"
      ]
    },
    {
      "cell_type": "code",
      "execution_count": 19,
      "id": "353f7482",
      "metadata": {
        "colab": {
          "base_uri": "https://localhost:8080/"
        },
        "id": "353f7482",
        "outputId": "2330c61d-a547-445f-92b7-19da2b237e5f"
      },
      "outputs": [
        {
          "output_type": "stream",
          "name": "stdout",
          "text": [
            "Improvement of Stacking Classifier compared to Decision Tree: 21.58%\n",
            "Improvement of Stacking Classifier compared to Random Forest: 0.90%\n",
            "Improvement of Stacking Classifier compared to AdaBoost: 40.65%\n",
            "Improvement of Stacking Classifier compared to LinearSVC: 5.60%\n",
            "Improvement of Stacking Classifier compared to Logistic Regression: 3.79%\n"
          ]
        }
      ],
      "source": [
        "# Display the improvement for each classifier\n",
        "for classifier, improvement in improvements.items():\n",
        "    print(f\"Improvement of Stacking Classifier compared to {classifier}: {improvement:.2f}%\")"
      ]
    }
  ],
  "metadata": {
    "kernelspec": {
      "display_name": "Python 3 (ipykernel)",
      "language": "python",
      "name": "python3"
    },
    "language_info": {
      "codemirror_mode": {
        "name": "ipython",
        "version": 3
      },
      "file_extension": ".py",
      "mimetype": "text/x-python",
      "name": "python",
      "nbconvert_exporter": "python",
      "pygments_lexer": "ipython3",
      "version": "3.11.5"
    },
    "colab": {
      "provenance": [],
      "include_colab_link": true
    }
  },
  "nbformat": 4,
  "nbformat_minor": 5
}