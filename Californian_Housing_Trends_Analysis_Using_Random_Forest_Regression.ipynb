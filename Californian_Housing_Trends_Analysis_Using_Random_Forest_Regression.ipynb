{
  "cells": [
    {
      "cell_type": "markdown",
      "metadata": {
        "id": "view-in-github",
        "colab_type": "text"
      },
      "source": [
        "<a href=\"https://colab.research.google.com/github/PanosRntgs/Machine-Learning/blob/main/Californian_Housing_Trends_Analysis_Using_Random_Forest_Regression.ipynb\" target=\"_parent\"><img src=\"https://colab.research.google.com/assets/colab-badge.svg\" alt=\"Open In Colab\"/></a>"
      ]
    },
    {
      "cell_type": "markdown",
      "source": [
        "Perform data analysis and predictive modeling on Californian housing data using Python.\n",
        "\n",
        "Summary:\n",
        "\n",
        "Data Loading and Preparation.\n",
        "\n",
        "Feature Scaling.\n",
        "\n",
        "Model Training and Parameter Tuning (Random Forest Regression).\n",
        "\n",
        "Model Evaluation.\n",
        "\n",
        "Feature Importance Analysis.\n",
        "\n",
        "Overall, the following notebook provides a comprehensive pipeline for loading, preprocessing, modeling, and analyzing Californian housing data, offering insights into the factors influencing median house values in different districts."
      ],
      "metadata": {
        "id": "oPKx0cE43cVk"
      },
      "id": "oPKx0cE43cVk"
    },
    {
      "cell_type": "code",
      "execution_count": null,
      "id": "48d065c6",
      "metadata": {
        "id": "48d065c6"
      },
      "outputs": [],
      "source": [
        "from pathlib import Path\n",
        "import pandas as pd\n",
        "import tarfile\n",
        "import urllib.request\n",
        "from sklearn.ensemble import RandomForestRegressor\n",
        "from sklearn.model_selection import GridSearchCV\n",
        "from sklearn.preprocessing import MinMaxScaler"
      ]
    },
    {
      "cell_type": "code",
      "execution_count": null,
      "id": "cbf75a76",
      "metadata": {
        "id": "cbf75a76"
      },
      "outputs": [],
      "source": [
        "def load_housing_data():\n",
        "    tarball_path = Path(\"datasets/housing.tgz\")\n",
        "    if not tarball_path.is_file():\n",
        "        Path(\"datasets\").mkdir(parents=True, exist_ok=True)\n",
        "        url = \"https://github.com/ageron/data/raw/main/housing.tgz\"\n",
        "        urllib.request.urlretrieve(url, tarball_path)\n",
        "        with tarfile.open(tarball_path) as housing_tarball:\n",
        "            housing_tarball.extractall(path=\"datasets\")\n",
        "    return pd.read_csv(Path(\"datasets/housing/housing.csv\"))\n",
        "\n",
        "housing = load_housing_data()"
      ]
    },
    {
      "cell_type": "code",
      "execution_count": null,
      "id": "3790c3ce",
      "metadata": {
        "id": "3790c3ce",
        "outputId": "ab218264-41a8-4e8a-c3e8-e85eb9488703"
      },
      "outputs": [
        {
          "data": {
            "text/html": [
              "<div>\n",
              "<style scoped>\n",
              "    .dataframe tbody tr th:only-of-type {\n",
              "        vertical-align: middle;\n",
              "    }\n",
              "\n",
              "    .dataframe tbody tr th {\n",
              "        vertical-align: top;\n",
              "    }\n",
              "\n",
              "    .dataframe thead th {\n",
              "        text-align: right;\n",
              "    }\n",
              "</style>\n",
              "<table border=\"1\" class=\"dataframe\">\n",
              "  <thead>\n",
              "    <tr style=\"text-align: right;\">\n",
              "      <th></th>\n",
              "      <th>longitude</th>\n",
              "      <th>latitude</th>\n",
              "      <th>housing_median_age</th>\n",
              "      <th>total_rooms</th>\n",
              "      <th>total_bedrooms</th>\n",
              "      <th>population</th>\n",
              "      <th>households</th>\n",
              "      <th>median_income</th>\n",
              "      <th>median_house_value</th>\n",
              "      <th>ocean_proximity</th>\n",
              "    </tr>\n",
              "  </thead>\n",
              "  <tbody>\n",
              "    <tr>\n",
              "      <th>0</th>\n",
              "      <td>-122.23</td>\n",
              "      <td>37.88</td>\n",
              "      <td>41.0</td>\n",
              "      <td>880.0</td>\n",
              "      <td>129.0</td>\n",
              "      <td>322.0</td>\n",
              "      <td>126.0</td>\n",
              "      <td>8.3252</td>\n",
              "      <td>452600.0</td>\n",
              "      <td>NEAR BAY</td>\n",
              "    </tr>\n",
              "    <tr>\n",
              "      <th>1</th>\n",
              "      <td>-122.22</td>\n",
              "      <td>37.86</td>\n",
              "      <td>21.0</td>\n",
              "      <td>7099.0</td>\n",
              "      <td>1106.0</td>\n",
              "      <td>2401.0</td>\n",
              "      <td>1138.0</td>\n",
              "      <td>8.3014</td>\n",
              "      <td>358500.0</td>\n",
              "      <td>NEAR BAY</td>\n",
              "    </tr>\n",
              "    <tr>\n",
              "      <th>2</th>\n",
              "      <td>-122.24</td>\n",
              "      <td>37.85</td>\n",
              "      <td>52.0</td>\n",
              "      <td>1467.0</td>\n",
              "      <td>190.0</td>\n",
              "      <td>496.0</td>\n",
              "      <td>177.0</td>\n",
              "      <td>7.2574</td>\n",
              "      <td>352100.0</td>\n",
              "      <td>NEAR BAY</td>\n",
              "    </tr>\n",
              "    <tr>\n",
              "      <th>3</th>\n",
              "      <td>-122.25</td>\n",
              "      <td>37.85</td>\n",
              "      <td>52.0</td>\n",
              "      <td>1274.0</td>\n",
              "      <td>235.0</td>\n",
              "      <td>558.0</td>\n",
              "      <td>219.0</td>\n",
              "      <td>5.6431</td>\n",
              "      <td>341300.0</td>\n",
              "      <td>NEAR BAY</td>\n",
              "    </tr>\n",
              "    <tr>\n",
              "      <th>4</th>\n",
              "      <td>-122.25</td>\n",
              "      <td>37.85</td>\n",
              "      <td>52.0</td>\n",
              "      <td>1627.0</td>\n",
              "      <td>280.0</td>\n",
              "      <td>565.0</td>\n",
              "      <td>259.0</td>\n",
              "      <td>3.8462</td>\n",
              "      <td>342200.0</td>\n",
              "      <td>NEAR BAY</td>\n",
              "    </tr>\n",
              "  </tbody>\n",
              "</table>\n",
              "</div>"
            ],
            "text/plain": [
              "   longitude  latitude  housing_median_age  total_rooms  total_bedrooms  \\\n",
              "0    -122.23     37.88                41.0        880.0           129.0   \n",
              "1    -122.22     37.86                21.0       7099.0          1106.0   \n",
              "2    -122.24     37.85                52.0       1467.0           190.0   \n",
              "3    -122.25     37.85                52.0       1274.0           235.0   \n",
              "4    -122.25     37.85                52.0       1627.0           280.0   \n",
              "\n",
              "   population  households  median_income  median_house_value ocean_proximity  \n",
              "0       322.0       126.0         8.3252            452600.0        NEAR BAY  \n",
              "1      2401.0      1138.0         8.3014            358500.0        NEAR BAY  \n",
              "2       496.0       177.0         7.2574            352100.0        NEAR BAY  \n",
              "3       558.0       219.0         5.6431            341300.0        NEAR BAY  \n",
              "4       565.0       259.0         3.8462            342200.0        NEAR BAY  "
            ]
          },
          "execution_count": 4,
          "metadata": {},
          "output_type": "execute_result"
        }
      ],
      "source": [
        "housing.head()"
      ]
    },
    {
      "cell_type": "code",
      "execution_count": null,
      "id": "9746d4b6",
      "metadata": {
        "id": "9746d4b6"
      },
      "outputs": [],
      "source": [
        "# Data Cleaning and Preprocessing\n",
        "housing['total_bedrooms'].fillna(housing['total_bedrooms'].median(), inplace=True)"
      ]
    },
    {
      "cell_type": "code",
      "execution_count": null,
      "id": "11a61e69",
      "metadata": {
        "id": "11a61e69"
      },
      "outputs": [],
      "source": [
        "# Encoding categorical variables using one-hot encoding\n",
        "housing = pd.get_dummies(housing, columns=['ocean_proximity'], drop_first=True)"
      ]
    },
    {
      "cell_type": "code",
      "execution_count": null,
      "id": "a7d54a54",
      "metadata": {
        "id": "a7d54a54"
      },
      "outputs": [],
      "source": [
        "# Feature scaling\n",
        "scaling = MinMaxScaler()\n",
        "columns_to_scale = ['longitude', 'latitude', 'housing_median_age', 'total_rooms', 'total_bedrooms', 'population', 'households', 'median_income']\n",
        "housing[columns_to_scale] = scaling.fit_transform(housing[columns_to_scale])"
      ]
    },
    {
      "cell_type": "markdown",
      "source": [],
      "metadata": {
        "id": "QVYfmk9e3aqj"
      },
      "id": "QVYfmk9e3aqj"
    },
    {
      "cell_type": "code",
      "execution_count": null,
      "id": "064c8e11",
      "metadata": {
        "id": "064c8e11",
        "outputId": "cb4512a2-00a6-4f73-b370-bbcd0c3c2030"
      },
      "outputs": [
        {
          "name": "stdout",
          "output_type": "stream",
          "text": [
            "Best Parameters: {'max_features': 8, 'n_estimators': 25}\n"
          ]
        }
      ],
      "source": [
        "# Performing Grid Search with Random Forest Regressor\n",
        "parameters_grid = {\n",
        "    'n_estimators': [5, 15, 25],\n",
        "    'max_features': [2, 4, 8]\n",
        "}\n",
        "\n",
        "random_forest = RandomForestRegressor()\n",
        "\n",
        "grid_search = GridSearchCV(random_forest, parameters_grid, cv=3, scoring='neg_mean_squared_error')\n",
        "grid_search.fit(housing.drop('median_house_value', axis=1), housing['median_house_value'])\n",
        "\n",
        "best_parameters = grid_search.best_params_\n",
        "\n",
        "# Printing the best parameters\n",
        "print(\"Best Parameters:\", best_parameters)"
      ]
    },
    {
      "cell_type": "code",
      "execution_count": null,
      "id": "11f903f8",
      "metadata": {
        "id": "11f903f8",
        "outputId": "a3b6feda-5033-4d8e-bf39-a0ebf5d39e2f"
      },
      "outputs": [
        {
          "name": "stdout",
          "output_type": "stream",
          "text": [
            "              Feature  Importance\n",
            "7       median_income    0.452753\n",
            "8  median_house_value    0.157943\n",
            "0           longitude    0.115337\n"
          ]
        }
      ],
      "source": [
        "# Create and train Random Forest Regressor model with input the best parameters\n",
        "random_forest = RandomForestRegressor(n_estimators=25, max_features=8, random_state=42)\n",
        "random_forest.fit(housing.drop('median_house_value', axis=1), housing['median_house_value'])\n",
        "\n",
        "# Get the most important features\n",
        "feature_importances = random_forest.feature_importances_\n",
        "\n",
        "# Create a DataFrame to associate feature names with their importances\n",
        "feature_importance_df = pd.DataFrame({'Feature': housing.columns[:-1], 'Importance': feature_importances})\n",
        "\n",
        "# Sorting the features by importance (descending order)\n",
        "feature_importance_df = feature_importance_df.sort_values(by='Importance', ascending=False)\n",
        "\n",
        "# Showing the top three most important features\n",
        "top_three_features = feature_importance_df.head(3)\n",
        "\n",
        "print(top_three_features)\n"
      ]
    }
  ],
  "metadata": {
    "kernelspec": {
      "display_name": "Python 3 (ipykernel)",
      "language": "python",
      "name": "python3"
    },
    "language_info": {
      "codemirror_mode": {
        "name": "ipython",
        "version": 3
      },
      "file_extension": ".py",
      "mimetype": "text/x-python",
      "name": "python",
      "nbconvert_exporter": "python",
      "pygments_lexer": "ipython3",
      "version": "3.11.5"
    },
    "colab": {
      "provenance": [],
      "include_colab_link": true
    }
  },
  "nbformat": 4,
  "nbformat_minor": 5
}